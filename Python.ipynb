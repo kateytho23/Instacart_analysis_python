{
 "cells": [
  {
   "cell_type": "code",
   "execution_count": 1,
   "id": "2f06628f-78b8-4f07-9b22-b7ff3043f42b",
   "metadata": {
    "tags": []
   },
   "outputs": [],
   "source": [
    "a=50"
   ]
  },
  {
   "cell_type": "code",
   "execution_count": 2,
   "id": "57aefcc3-5b9a-4dbe-ab68-548bc1c8b803",
   "metadata": {
    "tags": []
   },
   "outputs": [],
   "source": [
    "b=25"
   ]
  },
  {
   "cell_type": "code",
   "execution_count": 3,
   "id": "8ba75341-bb5b-4ada-9ae6-3a3aee459eeb",
   "metadata": {
    "tags": []
   },
   "outputs": [],
   "source": [
    "c=10"
   ]
  },
  {
   "cell_type": "code",
   "execution_count": 4,
   "id": "16acc551-37e1-46dd-9406-3133f4c6b135",
   "metadata": {
    "tags": []
   },
   "outputs": [
    {
     "data": {
      "text/plain": [
       "100"
      ]
     },
     "execution_count": 4,
     "metadata": {},
     "output_type": "execute_result"
    }
   ],
   "source": [
    "a+a"
   ]
  },
  {
   "cell_type": "code",
   "execution_count": 5,
   "id": "9fd64723-d40a-4b99-9093-c75dd828c686",
   "metadata": {
    "tags": []
   },
   "outputs": [
    {
     "data": {
      "text/plain": [
       "100"
      ]
     },
     "execution_count": 5,
     "metadata": {},
     "output_type": "execute_result"
    }
   ],
   "source": [
    "b+b+a"
   ]
  },
  {
   "cell_type": "code",
   "execution_count": 6,
   "id": "05ace077-6a8a-4dfb-ad96-d44ee85729d3",
   "metadata": {
    "tags": []
   },
   "outputs": [
    {
     "data": {
      "text/plain": [
       "100"
      ]
     },
     "execution_count": 6,
     "metadata": {},
     "output_type": "execute_result"
    }
   ],
   "source": [
    "c+c+c+c+c+a"
   ]
  },
  {
   "cell_type": "code",
   "execution_count": 7,
   "id": "a54bbc1b-0e64-4017-8941-841dcb7918d0",
   "metadata": {
    "tags": []
   },
   "outputs": [],
   "source": [
    "d=7.556"
   ]
  },
  {
   "cell_type": "code",
   "execution_count": 8,
   "id": "9a9c5a5a-51d0-49cc-aae2-6b82413c6da7",
   "metadata": {
    "tags": []
   },
   "outputs": [],
   "source": [
    "e=8.956"
   ]
  },
  {
   "cell_type": "code",
   "execution_count": 9,
   "id": "95574a89-d130-408a-921a-190f0ac7fe75",
   "metadata": {
    "tags": []
   },
   "outputs": [
    {
     "data": {
      "text/plain": [
       "0.8436802143814204"
      ]
     },
     "execution_count": 9,
     "metadata": {},
     "output_type": "execute_result"
    }
   ],
   "source": [
    "d/e"
   ]
  },
  {
   "cell_type": "code",
   "execution_count": 10,
   "id": "69724859-c0d3-415e-8317-b6f763ad84ed",
   "metadata": {
    "tags": []
   },
   "outputs": [
    {
     "ename": "NameError",
     "evalue": "name 'hill' is not defined",
     "output_type": "error",
     "traceback": [
      "\u001b[1;31m---------------------------------------------------------------------------\u001b[0m",
      "\u001b[1;31mNameError\u001b[0m                                 Traceback (most recent call last)",
      "Cell \u001b[1;32mIn[10], line 1\u001b[0m\n\u001b[1;32m----> 1\u001b[0m f\u001b[38;5;241m=\u001b[39mhill\n",
      "\u001b[1;31mNameError\u001b[0m: name 'hill' is not defined"
     ]
    }
   ],
   "source": [
    "f=hill"
   ]
  },
  {
   "cell_type": "code",
   "execution_count": 11,
   "id": "a5a5bc28-07f6-4516-9ed7-f76a898a25b7",
   "metadata": {
    "tags": []
   },
   "outputs": [],
   "source": [
    "f='hill'"
   ]
  },
  {
   "cell_type": "code",
   "execution_count": 12,
   "id": "f9cd4209-da81-47c4-8ffd-02fb982d1024",
   "metadata": {
    "tags": []
   },
   "outputs": [],
   "source": [
    "g='side'"
   ]
  },
  {
   "cell_type": "code",
   "execution_count": 13,
   "id": "ba3f413d-fe94-4f15-ab08-1a6bf1996454",
   "metadata": {
    "tags": []
   },
   "outputs": [
    {
     "data": {
      "text/plain": [
       "'hillside'"
      ]
     },
     "execution_count": 13,
     "metadata": {},
     "output_type": "execute_result"
    }
   ],
   "source": [
    "f+g"
   ]
  },
  {
   "cell_type": "code",
   "execution_count": 14,
   "id": "f8aeefd5-0fdd-4ff9-81f9-9fe374b79457",
   "metadata": {
    "tags": []
   },
   "outputs": [],
   "source": [
    "h='Stacy'"
   ]
  },
  {
   "cell_type": "code",
   "execution_count": 15,
   "id": "2768f411-5088-4619-9abc-e78b1287e353",
   "metadata": {
    "tags": []
   },
   "outputs": [],
   "source": [
    "i='ran'"
   ]
  },
  {
   "cell_type": "code",
   "execution_count": 16,
   "id": "455b532a-4343-4213-b758-02f26415ef7e",
   "metadata": {
    "tags": []
   },
   "outputs": [],
   "source": [
    "h='Stacey '"
   ]
  },
  {
   "cell_type": "code",
   "execution_count": 17,
   "id": "9113ed53-a1c2-4f86-a566-c561e6343401",
   "metadata": {
    "tags": []
   },
   "outputs": [],
   "source": [
    "i='ran '"
   ]
  },
  {
   "cell_type": "code",
   "execution_count": 18,
   "id": "d26bbe13-8f3f-49a2-8a1d-9acac0227233",
   "metadata": {
    "tags": []
   },
   "outputs": [],
   "source": [
    "j='up the'"
   ]
  },
  {
   "cell_type": "code",
   "execution_count": 19,
   "id": "9b1a2287-5a82-44fa-92c4-49b5b34941ab",
   "metadata": {
    "tags": []
   },
   "outputs": [],
   "source": [
    "j='up the '"
   ]
  },
  {
   "cell_type": "code",
   "execution_count": 20,
   "id": "595a75b9-01a6-404b-8a66-75012da21643",
   "metadata": {
    "tags": []
   },
   "outputs": [
    {
     "ename": "NameError",
     "evalue": "name 'J' is not defined",
     "output_type": "error",
     "traceback": [
      "\u001b[1;31m---------------------------------------------------------------------------\u001b[0m",
      "\u001b[1;31mNameError\u001b[0m                                 Traceback (most recent call last)",
      "Cell \u001b[1;32mIn[20], line 1\u001b[0m\n\u001b[1;32m----> 1\u001b[0m h\u001b[38;5;241m+\u001b[39mi\u001b[38;5;241m+\u001b[39mJ\u001b[38;5;241m+\u001b[39mf\u001b[38;5;241m+\u001b[39mg\n",
      "\u001b[1;31mNameError\u001b[0m: name 'J' is not defined"
     ]
    }
   ],
   "source": [
    "h+i+J+f+g"
   ]
  },
  {
   "cell_type": "code",
   "execution_count": 21,
   "id": "685a82a7-2612-4ea5-a232-325d645c17ce",
   "metadata": {
    "tags": []
   },
   "outputs": [
    {
     "data": {
      "text/plain": [
       "'Stacey ran up the hillside'"
      ]
     },
     "execution_count": 21,
     "metadata": {},
     "output_type": "execute_result"
    }
   ],
   "source": [
    "h+i+j+f+g"
   ]
  },
  {
   "cell_type": "code",
   "execution_count": 22,
   "id": "72e5a87a-54c5-43d8-aee3-c0c9bbbfeb78",
   "metadata": {
    "tags": []
   },
   "outputs": [],
   "source": [
    "k='. While'"
   ]
  },
  {
   "cell_type": "code",
   "execution_count": 23,
   "id": "1896c1fe-7801-4664-95f8-58b38352ded9",
   "metadata": {
    "tags": []
   },
   "outputs": [],
   "source": [
    "l=\"Johnny \""
   ]
  },
  {
   "cell_type": "code",
   "execution_count": 24,
   "id": "4a2ece9d-a366-4edd-9005-e99b54870e5a",
   "metadata": {
    "tags": []
   },
   "outputs": [],
   "source": [
    "m='fell'"
   ]
  },
  {
   "cell_type": "code",
   "execution_count": 25,
   "id": "53ed80df-e757-41b0-aa14-67bc24e46125",
   "metadata": {
    "tags": []
   },
   "outputs": [],
   "source": [
    "n=' down the '"
   ]
  },
  {
   "cell_type": "code",
   "execution_count": 37,
   "id": "8a4caadc-c96a-4822-9ec0-79853e349214",
   "metadata": {
    "tags": []
   },
   "outputs": [],
   "source": [
    "o='other'"
   ]
  },
  {
   "cell_type": "code",
   "execution_count": 38,
   "id": "d4ccb3d2-1e3d-46d1-8b98-c5604be7345e",
   "metadata": {
    "tags": []
   },
   "outputs": [],
   "source": [
    "p='side'"
   ]
  },
  {
   "cell_type": "code",
   "execution_count": 39,
   "id": "c3083e19-7735-4168-a912-b7c10282aa8e",
   "metadata": {
    "tags": []
   },
   "outputs": [],
   "source": [
    "l=' Johnny '"
   ]
  },
  {
   "cell_type": "code",
   "execution_count": 40,
   "id": "27b70117-c27b-4fbc-892a-ac08f2f8702a",
   "metadata": {
    "tags": []
   },
   "outputs": [
    {
     "data": {
      "text/plain": [
       "'Stacey ran up the hillside. While Johnny fell down the otherside'"
      ]
     },
     "execution_count": 40,
     "metadata": {},
     "output_type": "execute_result"
    }
   ],
   "source": [
    "h+i+j+f+g+k+l+m+n+o+p"
   ]
  }
 ],
 "metadata": {
  "kernelspec": {
   "display_name": "Python 3 (ipykernel)",
   "language": "python",
   "name": "python3"
  },
  "language_info": {
   "codemirror_mode": {
    "name": "ipython",
    "version": 3
   },
   "file_extension": ".py",
   "mimetype": "text/x-python",
   "name": "python",
   "nbconvert_exporter": "python",
   "pygments_lexer": "ipython3",
   "version": "3.11.4"
  }
 },
 "nbformat": 4,
 "nbformat_minor": 5
}
